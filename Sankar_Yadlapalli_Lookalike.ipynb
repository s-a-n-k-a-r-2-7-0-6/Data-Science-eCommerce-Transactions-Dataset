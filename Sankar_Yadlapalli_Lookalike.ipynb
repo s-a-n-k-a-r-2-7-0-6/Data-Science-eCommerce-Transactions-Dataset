{
 "cells": [
  {
   "cell_type": "code",
   "execution_count": 1,
   "id": "2bebcce1-2633-460f-9899-b3b21aff3558",
   "metadata": {},
   "outputs": [],
   "source": [
    "# Required Libraries\n",
    "import pandas as pd\n",
    "import numpy as np\n",
    "from sklearn.preprocessing import StandardScaler\n",
    "from sklearn.metrics.pairwise import cosine_similarity\n"
   ]
  },
  {
   "cell_type": "code",
   "execution_count": 2,
   "id": "9f488780-472f-4bf8-bbe6-d30775628161",
   "metadata": {},
   "outputs": [],
   "source": [
    "# Load datasets\n",
    "customers = pd.read_csv(\"Customers.csv\")\n",
    "products = pd.read_csv(\"Products.csv\")\n",
    "transactions = pd.read_csv(\"Transactions.csv\")\n",
    "\n",
    "# Merge transactions with customer and product data\n",
    "merged_data = transactions.merge(customers, on=\"CustomerID\").merge(products, on=\"ProductID\")\n",
    "\n",
    "# Aggregate transactional data for each customer\n",
    "customer_summary = merged_data.groupby(\"CustomerID\").agg({\n",
    "    \"TotalValue\": \"sum\",   # Total spending\n",
    "    \"Quantity\": \"sum\",     # Total items purchased\n",
    "}).reset_index()\n",
    "\n",
    "# Add customer profile features (Region and SignupDate)\n",
    "customer_profiles = customers.merge(customer_summary, on=\"CustomerID\")\n",
    "customer_profiles = pd.get_dummies(customer_profiles, columns=[\"Region\"], drop_first=True)\n"
   ]
  },
  {
   "cell_type": "code",
   "execution_count": 3,
   "id": "2af75495-d682-42e9-bb2a-702895f5aea1",
   "metadata": {},
   "outputs": [],
   "source": [
    "# Standardize numeric columns for similarity calculation\n",
    "scaler = StandardScaler()\n",
    "numeric_cols = [\"TotalValue\", \"Quantity\"]\n",
    "customer_profiles_scaled = customer_profiles.copy()\n",
    "customer_profiles_scaled[numeric_cols] = scaler.fit_transform(customer_profiles[numeric_cols])\n"
   ]
  },
  {
   "cell_type": "code",
   "execution_count": 4,
   "id": "069abd23-3045-4831-8409-8bc7380dcb4d",
   "metadata": {},
   "outputs": [],
   "source": [
    "# Compute cosine similarity matrix\n",
    "similarity_matrix = cosine_similarity(customer_profiles_scaled[numeric_cols])\n",
    "\n",
    "# Convert similarity matrix to DataFrame for easier access\n",
    "similarity_df = pd.DataFrame(\n",
    "    similarity_matrix, \n",
    "    index=customer_profiles[\"CustomerID\"], \n",
    "    columns=customer_profiles[\"CustomerID\"]\n",
    ")\n"
   ]
  },
  {
   "cell_type": "code",
   "execution_count": 5,
   "id": "d045388a-5159-49e3-97d9-88ada3d0cb46",
   "metadata": {},
   "outputs": [],
   "source": [
    "# Function to get top 3 similar customers for a given customer\n",
    "def get_top_3_similar(customer_id):\n",
    "    # Sort similarity scores in descending order and exclude the customer itself\n",
    "    similar_customers = similarity_df[customer_id].sort_values(ascending=False).iloc[1:4]\n",
    "    return [(cust_id, round(score, 3)) for cust_id, score in similar_customers.items()]\n",
    "\n",
    "# Generate lookalike recommendations for the first 20 customers\n",
    "first_20_customers = customers[\"CustomerID\"][:20]\n",
    "lookalike_data = {}\n",
    "for customer_id in first_20_customers:\n",
    "    lookalike_data[customer_id] = get_top_3_similar(customer_id)\n"
   ]
  },
  {
   "cell_type": "code",
   "execution_count": 6,
   "id": "79c9e454-b598-445b-8acd-e9a69063d493",
   "metadata": {},
   "outputs": [
    {
     "name": "stdout",
     "output_type": "stream",
     "text": [
      "  CustomerID                                         Lookalikes\n",
      "0      C0001   [('C0085', 1.0), ('C0042', 1.0), ('C0089', 1.0)]\n",
      "1      C0002   [('C0157', 1.0), ('C0166', 1.0), ('C0029', 1.0)]\n",
      "2      C0003  [('C0111', 0.994), ('C0160', 0.99), ('C0147', ...\n",
      "3      C0004  [('C0162', 1.0), ('C0165', 1.0), ('C0090', 0.9...\n",
      "4      C0005   [('C0080', 1.0), ('C0167', 1.0), ('C0177', 1.0)]\n"
     ]
    }
   ],
   "source": [
    "# Convert lookalike data to a DataFrame\n",
    "lookalike_output = pd.DataFrame([\n",
    "    {\"CustomerID\": cust_id, \"Lookalikes\": str(recommendations)}\n",
    "    for cust_id, recommendations in lookalike_data.items()\n",
    "])\n",
    "\n",
    "# Save the results to a CSV file\n",
    "lookalike_output.to_csv(\"Firstname_Lastname_Lookalike.csv\", index=False)\n",
    "\n",
    "# Display the first few rows of the output\n",
    "print(lookalike_output.head())\n"
   ]
  }
 ],
 "metadata": {
  "kernelspec": {
   "display_name": "Python 3 (ipykernel)",
   "language": "python",
   "name": "python3"
  },
  "language_info": {
   "codemirror_mode": {
    "name": "ipython",
    "version": 3
   },
   "file_extension": ".py",
   "mimetype": "text/x-python",
   "name": "python",
   "nbconvert_exporter": "python",
   "pygments_lexer": "ipython3",
   "version": "3.11.8"
  }
 },
 "nbformat": 4,
 "nbformat_minor": 5
}
